{
 "cells": [
  {
   "cell_type": "code",
   "execution_count": 4,
   "metadata": {},
   "outputs": [
    {
     "data": {
      "text/plain": [
       "nil"
      ]
     },
     "execution_count": 4,
     "metadata": {},
     "output_type": "execute_result"
    }
   ],
   "source": [
    "(use 'clojure.pprint)"
   ]
  },
  {
   "cell_type": "code",
   "execution_count": 5,
   "metadata": {},
   "outputs": [
    {
     "data": {
      "text/plain": [
       "#'user/richard"
      ]
     },
     "execution_count": 5,
     "metadata": {},
     "output_type": "execute_result"
    }
   ],
   "source": [
    "(def richard {:last-name \"Feynman\"\n",
    "              :first-name \"Richard\"\n",
    "              :job \"Physicist\"\n",
    "              :work {:school \"Caltech\"\n",
    "                     :position \"Professor\"\n",
    "                     :address {:city \"Pasadena\" \n",
    "                               :state \"California\"\n",
    "                               :country \"USA\"}}\n",
    "              :hobbies [:science :music :art]})"
   ]
  },
  {
   "cell_type": "code",
   "execution_count": 6,
   "metadata": {},
   "outputs": [
    {
     "name": "stdout",
     "output_type": "stream",
     "text": [
      "{:last-name \"Mr. Feynman\",\n",
      " :first-name \"Richard\",\n",
      " :job \"Physicist\",\n",
      " :work\n",
      " {:school \"Caltech\",\n",
      "  :position \"Professor\",\n",
      "  :address {:city \"Pasadena\", :state \"California\", :country \"USA\"}},\n",
      " :hobbies [:science :music :art]}\n"
     ]
    },
    {
     "data": {
      "text/plain": [
       "nil"
      ]
     },
     "execution_count": 6,
     "metadata": {},
     "output_type": "execute_result"
    }
   ],
   "source": [
    "(pprint (update richard :last-name (fn [name] (str \"Mr. \" name))))"
   ]
  },
  {
   "cell_type": "code",
   "execution_count": 7,
   "metadata": {},
   "outputs": [
    {
     "name": "stdout",
     "output_type": "stream",
     "text": [
      "{:last-name \"Feynman\",\n",
      " :first-name \"Richard\",\n",
      " :job \"Physicist\",\n",
      " :work\n",
      " {:school \"Caltech\",\n",
      "  :position \"Professor\",\n",
      "  :address\n",
      "  {:city \"Pasadena\",\n",
      "   :state \"California\",\n",
      "   :country \"USA\",\n",
      "   :street \"Simcoe Street\"}},\n",
      " :hobbies [:science :music :art]}\n"
     ]
    },
    {
     "data": {
      "text/plain": [
       "nil"
      ]
     },
     "execution_count": 7,
     "metadata": {},
     "output_type": "execute_result"
    }
   ],
   "source": [
    "(pprint (update richard \n",
    "                :work (fn [work] (update work :address assoc :street \"Simcoe Street\"))))"
   ]
  },
  {
   "cell_type": "code",
   "execution_count": 8,
   "metadata": {},
   "outputs": [
    {
     "name": "stdout",
     "output_type": "stream",
     "text": [
      "{:last-name \"Feynman\",\n",
      " :first-name \"Richard\",\n",
      " :job \"Physicist\",\n",
      " :work\n",
      " {:school \"Caltech\",\n",
      "  :position \"Professor\",\n",
      "  :address\n",
      "  {:city \"Pasadena\",\n",
      "   :state \"California\",\n",
      "   :country \"USA\",\n",
      "   :street \"Simcoe Street\"}},\n",
      " :hobbies [:science :music :art]}\n"
     ]
    },
    {
     "data": {
      "text/plain": [
       "nil"
      ]
     },
     "execution_count": 8,
     "metadata": {},
     "output_type": "execute_result"
    }
   ],
   "source": [
    "(pprint (assoc-in richard [:work :address :street] \"Simcoe Street\"))"
   ]
  },
  {
   "cell_type": "code",
   "execution_count": 9,
   "metadata": {},
   "outputs": [
    {
     "name": "stdout",
     "output_type": "stream",
     "text": [
      "{:last-name \"Feynman\",\n",
      " :first-name \"Richard\",\n",
      " :job \"Physicist\",\n",
      " :work\n",
      " {:school \"Caltech\",\n",
      "  :position \"Good Professor\",\n",
      "  :address {:city \"Pasadena\", :state \"California\", :country \"USA\"}},\n",
      " :hobbies [:science :music :art]}\n"
     ]
    },
    {
     "data": {
      "text/plain": [
       "nil"
      ]
     },
     "execution_count": 9,
     "metadata": {},
     "output_type": "execute_result"
    }
   ],
   "source": [
    "(pprint (update-in richard [:work :position] (fn [pos] (str \"Good \" pos))))"
   ]
  },
  {
   "cell_type": "markdown",
   "metadata": {},
   "source": [
    "# Advanced hash-map transformations"
   ]
  },
  {
   "cell_type": "code",
   "execution_count": 13,
   "metadata": {},
   "outputs": [
    {
     "data": {
      "text/plain": [
       "{:age 20, :name \"Jack\", :gender \"Unknown\"}"
      ]
     },
     "execution_count": 13,
     "metadata": {},
     "output_type": "execute_result"
    }
   ],
   "source": [
    "(let [keys [:name :age :gender]\n",
    "      values [\"Jack\" 20 \"Unknown\"]]\n",
    "      (apply hash-map (interleave keys values)))"
   ]
  },
  {
   "cell_type": "code",
   "execution_count": 15,
   "metadata": {},
   "outputs": [
    {
     "data": {
      "text/plain": [
       "{:name \"Jack\", :age 20, :gender \"Unknown\"}"
      ]
     },
     "execution_count": 15,
     "metadata": {},
     "output_type": "execute_result"
    }
   ],
   "source": [
    "(let [keys [:name :age :gender]\n",
    "      values [\"Jack\" 20 \"Unknown\"]]\n",
    "      (zipmap keys values))"
   ]
  },
  {
   "cell_type": "code",
   "execution_count": 16,
   "metadata": {},
   "outputs": [
    {
     "data": {
      "text/plain": [
       "#'user/names"
      ]
     },
     "execution_count": 16,
     "metadata": {},
     "output_type": "execute_result"
    }
   ],
   "source": [
    "(def names [\"joe\" \"jack\" \"mary\"])"
   ]
  },
  {
   "cell_type": "code",
   "execution_count": 24,
   "metadata": {},
   "outputs": [
    {
     "data": {
      "text/plain": [
       "#'user/sorted-groupby"
      ]
     },
     "execution_count": 24,
     "metadata": {},
     "output_type": "execute_result"
    }
   ],
   "source": [
    "(def sorted-groupby\n",
    "  (into {}\n",
    "  (for [[k v] (group-by first names)]\n",
    "    [k (sort v)])))"
   ]
  },
  {
   "cell_type": "code",
   "execution_count": 26,
   "metadata": {},
   "outputs": [
    {
     "data": {
      "text/plain": [
       "(\"jack\" \"joe\")"
      ]
     },
     "execution_count": 26,
     "metadata": {},
     "output_type": "execute_result"
    }
   ],
   "source": [
    "(get sorted-groupby \\j)\n",
    "\n",
    "\n",
    "\n",
    "\n",
    "\n",
    "\n"
   ]
  },
  {
   "cell_type": "code",
   "execution_count": null,
   "metadata": {},
   "outputs": [],
   "source": []
  }
 ],
 "metadata": {
  "kernelspec": {
   "display_name": "Clojure",
   "language": "clojure",
   "name": "clojure"
  }
 },
 "nbformat": 4,
 "nbformat_minor": 2
}
