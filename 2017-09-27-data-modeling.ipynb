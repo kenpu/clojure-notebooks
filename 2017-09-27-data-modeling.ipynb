{
 "cells": [
  {
   "cell_type": "code",
   "execution_count": 2,
   "metadata": {},
   "outputs": [
    {
     "data": {
      "text/plain": [
       "#'user/our-class"
      ]
     },
     "execution_count": 2,
     "metadata": {},
     "output_type": "execute_result"
    }
   ],
   "source": [
    ";; Model this course\n",
    "(def our-class {:code \"CSCI 3055U\"\n",
    " :lectures [ {:day-of-week \"TUESDAY\"\n",
    "              :time [\"11:10AM\" \"12:30PM\"]\n",
    "              :room \"ERCxxx\"}\n",
    "             {:day-of-week \"THURSDAY\"\n",
    "              :time [\"11:10AM\" \"12:30PM\"]\n",
    "              :room \"ERCxxx\"}\n",
    "           ]\n",
    " :quizzes []\n",
    " :students {\n",
    "     \"104849382\"  {\n",
    "         :submissions {\n",
    "             :quiz []\n",
    "         }\n",
    "     }\n",
    "     \"298371234\"  nil\n",
    " }})"
   ]
  },
  {
   "cell_type": "code",
   "execution_count": 3,
   "metadata": {},
   "outputs": [
    {
     "data": {
      "text/plain": [
       "{:code \"CSCI 3055U\", :lectures [{:day-of-week \"TUESDAY\", :time [\"11:10AM\" \"12:30PM\"], :room \"ERCxxx\"} {:day-of-week \"THURSDAY\", :time [\"11:10AM\" \"12:30PM\"], :room \"ERCxxx\"}], :quizzes [], :students {\"104849382\" {:submissions {:quiz []}}, \"298371234\" nil}}"
      ]
     },
     "execution_count": 3,
     "metadata": {},
     "output_type": "execute_result"
    }
   ],
   "source": [
    "our-class"
   ]
  },
  {
   "cell_type": "code",
   "execution_count": 8,
   "metadata": {},
   "outputs": [
    {
     "data": {
      "text/plain": [
       "\"12:30PM\""
      ]
     },
     "execution_count": 8,
     "metadata": {},
     "output_type": "execute_result"
    }
   ],
   "source": [
    "(last (get (get (get our-class :lectures) 0) :time))"
   ]
  },
  {
   "cell_type": "code",
   "execution_count": 10,
   "metadata": {},
   "outputs": [
    {
     "data": {
      "text/plain": [
       "\"12:30PM\""
      ]
     },
     "execution_count": 10,
     "metadata": {},
     "output_type": "execute_result"
    }
   ],
   "source": [
    "(get-in our-class [:lectures 0 :time 1])"
   ]
  },
  {
   "cell_type": "code",
   "execution_count": 11,
   "metadata": {},
   "outputs": [
    {
     "data": {
      "text/plain": [
       "\"12:30PM\""
      ]
     },
     "execution_count": 11,
     "metadata": {},
     "output_type": "execute_result"
    }
   ],
   "source": [
    "(-> our-class\n",
    "    :lectures\n",
    "    first\n",
    "    :time\n",
    "    last)"
   ]
  },
  {
   "cell_type": "code",
   "execution_count": null,
   "metadata": {},
   "outputs": [],
   "source": []
  }
 ],
 "metadata": {
  "kernelspec": {
   "display_name": "Clojure",
   "language": "clojure",
   "name": "clojure"
  }
 },
 "nbformat": 4,
 "nbformat_minor": 2
}
